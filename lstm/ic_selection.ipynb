{
 "cells": [
  {
   "cell_type": "code",
   "execution_count": 6,
   "metadata": {
    "collapsed": false
   },
   "outputs": [],
   "source": [
    "import numpy as np\n",
    "import keras\n",
    "from keras.layers.core import Dense, Activation, Dropout,Reshape\n",
    "from keras.models import Sequential\n",
    "from keras.optimizers import SGD,Adam,Adadelta\n",
    "from keras import regularizers\n",
    "from sklearn.grid_search import GridSearchCV\n",
    "from sklearn.metrics import accuracy_score,make_scorer\n",
    "from sklearn.linear_model import LogisticRegression\n",
    "from sklearn.ensemble import RandomForestClassifier\n",
    "import pandas as pd"
   ]
  },
  {
   "cell_type": "markdown",
   "metadata": {},
   "source": [
    "def rf():\n",
    "    param_test1 = {'n_estimators':[10, 30, 50, 70]}\n",
    "    clf = GridSearchCV(estimator = RandomForestClassifier(min_samples_split=100,\n",
    "                                  min_samples_leaf=20,max_depth=8,max_features='sqrt' ,random_state=10), \n",
    "                       param_grid = param_test1, scoring='roc_auc',cv=5)\n",
    "    return clf\n",
    "def panel_append(p):\n",
    "    result = []\n",
    "    r = np.concatenate((np.r_[1:21],np.r_[40:241:20]))\n",
    "    for m in r:\n",
    "        rt = (p/p.shift(m)) - 1\n",
    "        result.append(rt)\n",
    "    return list(np.array(result).T)\n",
    "def get_profit_shenzhi(start_index, end_index, cost = 0,k = 5):\n",
    "    profit_all, profit_everyday, accuracy_train = [],[],[]\n",
    "    index = []\n",
    "    stds, hit_ratios, sharp_ratios = [],[],[]\n",
    "    ms = []\n",
    "    \n",
    "    for i in np.r_[start_index:end_index:250]:\n",
    "# Get close prices\n",
    "        ics = index_components('399001.XSHE')\n",
    "        p = get_price(ics, '20050104','20180709',frequency = '1d')['close'][i:i+1000].dropna(axis = 'columns', how = 'any')\n",
    "        dates = p.index\n",
    "        ics_new = p.columns\n",
    "        if (len(ics_new) < k*2):\n",
    "            print(len(ics_new))\n",
    "            continue\n",
    "        rt = (p - p.shift(1))/p\n",
    "        med = rt.median(axis = 1)\n",
    "        x_all = p.apply(lambda z : panel_append(z))\n",
    "        X_train = []\n",
    "        y_train = []\n",
    "        for ic in ics_new:\n",
    "            x = x_all[ic]\n",
    "            y = (rt[ic] > med) * 1\n",
    "            X_train += list(x)[241:749]\n",
    "            y_train += list(y)[242:750]\n",
    "        if (len(X_train) != len(y_train)):\n",
    "            print('i:',i)\n",
    "            continue\n",
    "        model_rf = rf()\n",
    "        model_rf.fit(X_train, y_train)\n",
    "        pred_train = model_rf.predict(X_train)\n",
    "        acc_train = accuracy_score(y_train, pred_train)\n",
    "        dic = pd.DataFrame()\n",
    "        for ic in ics_new:\n",
    "            y = (rt[ic] > med) * 1\n",
    "            X_test = list(x_all[ic])[750: -1]   \n",
    "            proba_test = model_rf.predict_proba(X_test)\n",
    "            dic[ic] = np.array(proba_test)[:,1]\n",
    "        profit = 0\n",
    "        ed_profit =  []\n",
    "        if (len(dic.index) < 248):\n",
    "            print(len(dic.index))\n",
    "            continue\n",
    "        for t in np.r_[750:999]:\n",
    "            top_ks = dic.sort_values(by = dic.index[t-750], axis = 'columns', ascending = False).columns[:k]\n",
    "            this_profit = 0\n",
    "            for ic in top_ks:\n",
    "                this_profit += rt[ic][t+1]\n",
    "            profit += this_profit/k\n",
    "            ed_profit.append(this_profit/k)\n",
    "        profit_all.append(profit)\n",
    "        hit_ratio = (len(np.array(ed_profit)[np.array(ed_profit) > 0] )/len(ed_profit))\n",
    "        hit_ratios.append(hit_ratio)\n",
    "        profit_everyday.append(ed_profit)\n",
    "        accuracy_train.append(acc_train)\n",
    "        index.append(i)\n",
    "        std = np.std(ed_profit)\n",
    "        m = np.average(ed_profit)\n",
    "        ms.append(m)\n",
    "        stds.append(std)\n",
    "        sharp_ratios.append((m * np.sqrt(250))/std)\n",
    "        print(\"train accuracy is: \", acc_train,\"profit: \", profit, \" hit ratio: \", hit_ratio, ' sharp ratio: ', (m * np.sqrt(250))/std,' daily return: ', m)\n",
    "# Construct a dataframe\n",
    "    df = pd.DataFrame(index = index)\n",
    "    df['profits'] = profit_all\n",
    "    df['everyday profit'] = profit_everyday\n",
    "    df['training accuracy'] = accuracy_train\n",
    "    df['standard deviation'] = stds\n",
    "    df['hit ratio'] = hit_ratios\n",
    "    df['sharp ratio'] = sharp_ratios\n",
    "    df['daily return'] = ms\n",
    "    return df"
   ]
  },
  {
   "cell_type": "code",
   "execution_count": 3,
   "metadata": {
    "collapsed": false
   },
   "outputs": [
    {
     "ename": "NameError",
     "evalue": "name 'index_components' is not defined",
     "output_type": "error",
     "traceback": [
      "\u001b[0;31m---------------------------------------------------------------------------\u001b[0m",
      "\u001b[0;31mNameError\u001b[0m                                 Traceback (most recent call last)",
      "\u001b[0;32m<ipython-input-3-af2bed968c15>\u001b[0m in \u001b[0;36m<module>\u001b[0;34m()\u001b[0m\n\u001b[0;32m----> 1\u001b[0;31m \u001b[0mdf\u001b[0m \u001b[0;34m=\u001b[0m \u001b[0mget_profit_shenzhi\u001b[0m\u001b[0;34m(\u001b[0m\u001b[0;36m0\u001b[0m\u001b[0;34m,\u001b[0m \u001b[0;36m1000\u001b[0m\u001b[0;34m)\u001b[0m\u001b[0;34m\u001b[0m\u001b[0m\n\u001b[0m",
      "\u001b[0;32m<ipython-input-2-7122ce6252f4>\u001b[0m in \u001b[0;36mget_profit_shenzhi\u001b[0;34m(start_index, end_index, cost, k)\u001b[0m\n\u001b[1;32m     20\u001b[0m     \u001b[0;32mfor\u001b[0m \u001b[0mi\u001b[0m \u001b[0;32min\u001b[0m \u001b[0mnp\u001b[0m\u001b[0;34m.\u001b[0m\u001b[0mr_\u001b[0m\u001b[0;34m[\u001b[0m\u001b[0mstart_index\u001b[0m\u001b[0;34m:\u001b[0m\u001b[0mend_index\u001b[0m\u001b[0;34m:\u001b[0m\u001b[0;36m250\u001b[0m\u001b[0;34m]\u001b[0m\u001b[0;34m:\u001b[0m\u001b[0;34m\u001b[0m\u001b[0m\n\u001b[1;32m     21\u001b[0m \u001b[0;31m# Get close prices\u001b[0m\u001b[0;34m\u001b[0m\u001b[0;34m\u001b[0m\u001b[0m\n\u001b[0;32m---> 22\u001b[0;31m         \u001b[0mics\u001b[0m \u001b[0;34m=\u001b[0m \u001b[0mindex_components\u001b[0m\u001b[0;34m(\u001b[0m\u001b[0;34m'399001.XSHE'\u001b[0m\u001b[0;34m)\u001b[0m\u001b[0;34m\u001b[0m\u001b[0m\n\u001b[0m\u001b[1;32m     23\u001b[0m         \u001b[0mp\u001b[0m \u001b[0;34m=\u001b[0m \u001b[0mget_price\u001b[0m\u001b[0;34m(\u001b[0m\u001b[0mics\u001b[0m\u001b[0;34m,\u001b[0m \u001b[0;34m'20050104'\u001b[0m\u001b[0;34m,\u001b[0m\u001b[0;34m'20180709'\u001b[0m\u001b[0;34m,\u001b[0m\u001b[0mfrequency\u001b[0m \u001b[0;34m=\u001b[0m \u001b[0;34m'1d'\u001b[0m\u001b[0;34m)\u001b[0m\u001b[0;34m[\u001b[0m\u001b[0;34m'close'\u001b[0m\u001b[0;34m]\u001b[0m\u001b[0;34m[\u001b[0m\u001b[0mi\u001b[0m\u001b[0;34m:\u001b[0m\u001b[0mi\u001b[0m\u001b[0;34m+\u001b[0m\u001b[0;36m1000\u001b[0m\u001b[0;34m]\u001b[0m\u001b[0;34m.\u001b[0m\u001b[0mdropna\u001b[0m\u001b[0;34m(\u001b[0m\u001b[0maxis\u001b[0m \u001b[0;34m=\u001b[0m \u001b[0;34m'columns'\u001b[0m\u001b[0;34m,\u001b[0m \u001b[0mhow\u001b[0m \u001b[0;34m=\u001b[0m \u001b[0;34m'any'\u001b[0m\u001b[0;34m)\u001b[0m\u001b[0;34m\u001b[0m\u001b[0m\n\u001b[1;32m     24\u001b[0m         \u001b[0mdates\u001b[0m \u001b[0;34m=\u001b[0m \u001b[0mp\u001b[0m\u001b[0;34m.\u001b[0m\u001b[0mindex\u001b[0m\u001b[0;34m\u001b[0m\u001b[0m\n",
      "\u001b[0;31mNameError\u001b[0m: name 'index_components' is not defined"
     ]
    }
   ],
   "source": [
    "df = get_profit_shenzhi(0, 1000)"
   ]
  },
  {
   "cell_type": "markdown",
   "metadata": {},
   "source": [
    "# logistic Regression"
   ]
  },
  {
   "cell_type": "code",
   "execution_count": 5,
   "metadata": {
    "collapsed": true
   },
   "outputs": [],
   "source": [
    "import numpy as np\n",
    "from sklearn.linear_model import LogisticRegression\n",
    "from sklearn.grid_search import GridSearchCV\n",
    "from sklearn.metrics import accuracy_score,make_scorer\n",
    "import pandas as pd"
   ]
  },
  {
   "cell_type": "code",
   "execution_count": null,
   "metadata": {
    "collapsed": true
   },
   "outputs": [],
   "source": [
    "\n",
    "def panel_append(p):\n",
    "    result = []\n",
    "    r = np.concatenate((np.r_[1:21],np.r_[40:241:20]))\n",
    "    for m in r:\n",
    "        rt = (p/p.shift(m)) - 1\n",
    "        result.append(rt)\n",
    "    return list(np.array(result).T)\n",
    "def Standard_error(sample):\n",
    "    std=np.std(sample,ddof=0)\n",
    "    standard_error=std/math.sqrt(len(sample))\n",
    "    return standard_error\n",
    "\n",
    "def get_profit(start_index, end_index, cost = 0,k = 5):\n",
    "    profit_all, profit_everyday, accuracy_train = [],[],[]\n",
    "    index = []\n",
    "    returns,dates = [],[]\n",
    "    ics = index_components('399001.XSHE')\n",
    "    ps = get_price(ics, '20050104','20180709',frequency = '1d')['close']\n",
    "    for i in np.r_[start_index:end_index:250]:\n",
    "# Get close prices\n",
    "        p = ps[i:i+1000].dropna(axis = 'columns', how = 'any')\n",
    "        ics_new = p.columns\n",
    "        if (len(ics_new) < k*2):\n",
    "            print(len(ics_new))\n",
    "            continue\n",
    "        rt = (p - p.shift(1))/p\n",
    "        med = rt.median(axis = 1)\n",
    "        x_all = p.apply(lambda z : panel_append(z))\n",
    "        X_train = []\n",
    "        y_train = []\n",
    "        for ic in ics_new:\n",
    "            x = x_all[ic]\n",
    "            y = (rt[ic] > med) * 1\n",
    "            X_train += list(x)[241:749]\n",
    "            y_train += list(y)[242:750]\n",
    "        if (len(X_train) != len(y_train)):\n",
    "            print('i:',i)\n",
    "            continue\n",
    "        model_log = LogisticRegression()\n",
    "        model_log.fit(X_train, y_train)\n",
    "        pred_train = model_log.predict(X_train)\n",
    "        acc_train = accuracy_score(y_train, pred_train)\n",
    "        dic = pd.DataFrame()\n",
    "        for ic in ics_new:\n",
    "            y = (rt[ic] > med) * 1\n",
    "            X_test = list(x_all[ic])[750: -1]   \n",
    "            proba_test = model_log.predict_proba(X_test)\n",
    "            dic[ic] = np.array(proba_test)[:,1]\n",
    "        if (len(dic.index) < 248):\n",
    "            continue\n",
    "        for t in np.r_[750:999]:\n",
    "            top_ks = dic.sort_values(by = dic.index[t-750], axis = 'columns', ascending = False).columns[:k]\n",
    "            this_profit = 0\n",
    "            for ic in top_ks:\n",
    "                this_profit += rt[ic][t+1]\n",
    "#             print(this_profit/k, list(ps.index)[i+t])\n",
    "            returns.append(this_profit/k)\n",
    "            dates.append(ps.index[i+t])\n",
    "            \n",
    "    return returns, dates"
   ]
  },
  {
   "cell_type": "code",
   "execution_count": null,
   "metadata": {
    "collapsed": true
   },
   "outputs": [],
   "source": [
    "returns,dates = get_profit(0, 3000)\n",
    "df = pd.DataFrame(returns, index = dates)"
   ]
  },
  {
   "cell_type": "code",
   "execution_count": null,
   "metadata": {
    "collapsed": true
   },
   "outputs": [],
   "source": [
    "\n",
    "m = np.average(returns)\n",
    "std = np.std(returns)\n",
    "ste = std/np.sqrt(len(returns))\n",
    "t_stat = m/ste\n",
    "median = np.median(returns)\n",
    "q1 = np.percentile(returns,25)\n",
    "q3 = np.percentile(returns,75)\n",
    "hit_ratio = len(np.array(returns)[np.array(returns) > 0] )/len(returns)\n",
    "maximum = max(returns)\n",
    "minimum = min(returns)\n",
    "skew = df.skew()[0]\n",
    "kurt = df.kurt()[0]\n",
    "log_stats_a = [m,ste,t_stat,minimum,q1,median,q3,maximum,hit_ratio,std,skew,kurt]\n",
    "label_a_1 = ['Mean return','Standard error','t-statistic','Minimum','Quartile 1','Median','Quartile 3']\n",
    "label_a_2 = ['Maximum','Share > 0','Standard dev.','Skewness','Kurtosis']\n",
    "label_a = label_a_1 + label_a_2\n",
    "panel_A = pd.DataFrame(index = label_a)\n",
    "panel_A['LOG'] = log_stats_a"
   ]
  },
  {
   "cell_type": "code",
   "execution_count": null,
   "metadata": {
    "collapsed": true
   },
   "outputs": [],
   "source": [
    "panel_A"
   ]
  },
  {
   "cell_type": "code",
   "execution_count": null,
   "metadata": {
    "collapsed": true
   },
   "outputs": [],
   "source": [
    "from scipy.stats import norm"
   ]
  },
  {
   "cell_type": "code",
   "execution_count": null,
   "metadata": {
    "collapsed": true
   },
   "outputs": [],
   "source": [
    "VaR1 = norm.ppf(0.01, m, std)\n",
    "VaR5 = norm.ppf(0.05, m, std)"
   ]
  }
 ],
 "metadata": {
  "kernelspec": {
   "display_name": "Python(Fintech)",
   "language": "python",
   "name": "fintech"
  },
  "language_info": {
   "codemirror_mode": {
    "name": "ipython",
    "version": 3
   },
   "file_extension": ".py",
   "mimetype": "text/x-python",
   "name": "python",
   "nbconvert_exporter": "python",
   "pygments_lexer": "ipython3",
   "version": "3.6.2"
  }
 },
 "nbformat": 4,
 "nbformat_minor": 2
}
