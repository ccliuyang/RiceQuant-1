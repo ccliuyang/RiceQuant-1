{
 "cells": [
  {
   "cell_type": "code",
   "execution_count": 1,
   "metadata": {
    "collapsed": false
   },
   "outputs": [
    {
     "name": "stderr",
     "output_type": "stream",
     "text": [
      "Using TensorFlow backend.\n"
     ]
    }
   ],
   "source": [
    "import numpy as np\n",
    "import keras\n",
    "from keras.layers.core import Dense, Activation, Dropout,Reshape\n",
    "from keras.models import Sequential\n",
    "from keras.optimizers import SGD,Adam,Adadelta\n",
    "from keras import regularizers\n",
    "from sklearn.preprocessing import StandardScaler\n",
    "from sklearn import preprocessing\n",
    "from sklearn.metrics import accuracy_score,make_scorer\n",
    "from sklearn.ensemble import RandomForestClassifier\n",
    "from keras.layers.recurrent import LSTM\n",
    "from keras.callbacks import EarlyStopping\n",
    "import pandas as pd\n",
    "\n"
   ]
  },
  {
   "cell_type": "code",
   "execution_count": 2,
   "metadata": {
    "collapsed": true
   },
   "outputs": [],
   "source": [
    "def lstm():\n",
    "    model = Sequential()\n",
    "    model.add(LSTM(25, return_sequences = False,\n",
    "                   input_shape=(240, 1)))  # returns a sequence of vectors of dimension 32\n",
    "    model.add(Dropout(0.1))\n",
    "    model.add(Dense(2, activation='softmax'))\n",
    "    model.compile(loss='categorical_crossentropy',\n",
    "              optimizer='rmsprop',\n",
    "              metrics=['binary_accuracy'])\n",
    "    return model\n",
    "def sandlize(erd):\n",
    "    return np.reshape(erd,(erd.shape[0], erd.shape[1], 1))\n",
    "def lstm_append(p):\n",
    "    result = []\n",
    "    r = np.r_[1:241]\n",
    "    for m in r:\n",
    "        rt = (p/p.shift(m)) - 1\n",
    "        result.append(rt)\n",
    "    return list(np.array(result).T)\n",
    "def get_profit_lstm(start_index, end_index,index_num = '000016.XSHG', cost = 0,k = 5):\n",
    "    profit_all, profit_everyday, accuracy_train = [],[],[]\n",
    "    index = []\n",
    "    stds, hit_ratios, sharp_ratios = [],[],[]\n",
    "    ms = []\n",
    "    for i in np.r_[start_index:end_index:250]:\n",
    "# Get close prices\n",
    "        ics = index_components(index_num)\n",
    "        p = get_price(ics, '20050104','20180709',frequency = '1d')['close'][i:i+1000].dropna(axis = 'columns', how = 'any')\n",
    "        ics_new = p.columns\n",
    "        if (len(ics_new) < k*2):\n",
    "            print(len(ics_new))\n",
    "            continue\n",
    "        rt = (p - p.shift(1))/p\n",
    "        med = rt.median(axis = 1)\n",
    "        x_all = p.apply(lambda z : lstm_append(z))\n",
    "        X_train = []\n",
    "        y_train = []\n",
    "        for ic in ics_new:\n",
    "            x = x_all[ic]\n",
    "            y = (rt[ic] > med) * 1\n",
    "            X_train += list(x)[241:749]\n",
    "            y_train += list(y)[242:750]\n",
    "        y_train_oh = keras.utils.to_categorical(y_train, num_classes=2)\n",
    "        if (len(X_train) != len(y_train)):\n",
    "            print('i:',i)\n",
    "            continue\n",
    "        model_lstm = lstm()\n",
    "        early_stopping = EarlyStopping(monitor='loss', patience=5, verbose=0, mode='min')\n",
    "        model_lstm.fit(sandlize(np.array(X_train)), y_train_oh,epochs = 15,callbacks=[early_stopping])\n",
    "        pred_train = model_lstm.predict(sandlize(np.array(X_train)))\n",
    "        acc_train = model_lstm.evaluate(sandlize(np.array(X_train)), pred_train, verbose = 0)\n",
    "        print()\n",
    "        dic = pd.DataFrame()\n",
    "        for ic in ics_new:\n",
    "\n",
    "            y = (rt[ic] > med) * 1\n",
    "            X_test = list(x_all[ic])[750: -1]   \n",
    "            proba_test = model_lstm.predict_proba(sandlize(np.array(X_test)))\n",
    "            dic[ic] = np.array(proba_test)[:,1]\n",
    "        profit = 0\n",
    "        ed_profit =  []\n",
    "        if (len(dic.index) < 248):\n",
    "            print(len(dic.index))\n",
    "            continue\n",
    "        for t in np.r_[750:999]:\n",
    "        \n",
    "            top_ks = dic.sort_values(by = dic.index[t-750], axis = 'columns', ascending = False).columns[:k]\n",
    "            for ic in top_ks:\n",
    "                this_profit = rt[ic][t+1]\n",
    "                profit += this_profit\n",
    "            ed_profit.append(this_profit/k)\n",
    "        print(ed_profit)\n",
    "        profit_all.append(profit)\n",
    "        hit_ratio = (len(np.array(ed_profit)[np.array(ed_profit) > 0] )/len(ed_profit))\n",
    "        hit_ratios.append(hit_ratio)\n",
    "        profit_everyday.append(ed_profit)\n",
    "        accuracy_train.append(acc_train)\n",
    "        index.append(i)\n",
    "        std = np.std(ed_profit)\n",
    "        m = np.average(ed_profit)\n",
    "        ms.append(m)\n",
    "        stds.append(std)\n",
    "        sharp_ratios.append(m/std)\n",
    "        print(\"train accuracy is: \", acc_train,\"profit: \", profit, \" hit ratio: \", hit_ratio, ' sharp ratio: ', m/std,' daily return: ', m)\n",
    "# Construct a dataframe\n",
    "    df = pd.DataFrame(index = index)\n",
    "    df['profits'] = profit_all\n",
    "    df['everyday profit'] = profit_everyday\n",
    "    df['training accuracy'] = accuracy_train\n",
    "    df['standard deviation'] = stds\n",
    "    df['hit ratio'] = hit_ratios\n",
    "    df['sharp ratio'] = sharp_ratios\n",
    "    df['daily return'] = ms\n",
    "    return df"
   ]
  },
  {
   "cell_type": "code",
   "execution_count": null,
   "metadata": {
    "collapsed": true
   },
   "outputs": [],
   "source": [
    "df = get_profit_lstm(0, 1000)"
   ]
  }
 ],
 "metadata": {
  "kernelspec": {
   "display_name": "Python(Fintech)",
   "language": "python",
   "name": "fintech"
  },
  "language_info": {
   "codemirror_mode": {
    "name": "ipython",
    "version": 3
   },
   "file_extension": ".py",
   "mimetype": "text/x-python",
   "name": "python",
   "nbconvert_exporter": "python",
   "pygments_lexer": "ipython3",
   "version": "3.6.2"
  }
 },
 "nbformat": 4,
 "nbformat_minor": 2
}
